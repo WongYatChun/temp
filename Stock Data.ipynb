{
 "cells": [
  {
   "cell_type": "code",
   "execution_count": 1,
   "metadata": {},
   "outputs": [],
   "source": [
    "import pandas as pd\n",
    "from datetime import date, timedelta\n",
    "import tushare as ts\n",
    "import time\n",
    "\n",
    "pro = ts.pro_api('32694407bad827ade0fab3d9a436f06172f09a3bcb4de13ddaef96b1')\n",
    "\n"
   ]
  },
  {
   "cell_type": "code",
   "execution_count": 2,
   "metadata": {},
   "outputs": [],
   "source": [
    "start_date = \"20110101\"\n",
    "end_date = \"20181231\"\n",
    "\n",
    "def get_stock_data(ts_code, start_date, end_date, retry_count = 3, pause = 60):\n",
    "    \n",
    "    for _ in range(retry_count):\n",
    "        try:\n",
    "            df = pro.daily(ts_code = ts_code, \n",
    "                           start_date = start_date, \n",
    "                           end_date = end_date)\n",
    "        except:\n",
    "            time.sleep(pause)\n",
    "        else:\n",
    "            return df\n",
    "    print(ts_code, \" failed\")\n",
    "    return pd.DataFrame()"
   ]
  },
  {
   "cell_type": "code",
   "execution_count": 12,
   "metadata": {},
   "outputs": [],
   "source": [
    "FTSEA50 = ['000002.SZ', '600104.SH', '601229.SH', '600018.SH', '600030.SH',\n",
    "            '601998.SH', '601766.SH', '601390.SH', '601800.SH', '601628.SH',\n",
    "            '601601.SH', '601318.SH', '601668.SH', '600028.SH', '601857.SH',\n",
    "            '601088.SH', '600050.SH', '601186.SH', '601988.SH', '000858.SZ',\n",
    "            '601328.SH', '000725.SZ', '600887.SH', '600048.SH', '601818.SH',\n",
    "            '601166.SH', '601288.SH', '002027.SZ', '601169.SH', '601688.SH',\n",
    "            '601211.SH', '600019.SH', '601398.SH', '000001.SZ', '000776.SZ',\n",
    "            '601238.SH', '601939.SH', '600276.SH', '001979.SZ', '600036.SH',\n",
    "            '601336.SH', '002594.SZ', '600016.SH', '002304.SZ', '600000.SH',\n",
    "            '002415.SZ', '600837.SH', '000333.SZ', '600519.SH', '600900.SH']\n",
    "\n"
   ]
  },
  {
   "cell_type": "code",
   "execution_count": 13,
   "metadata": {},
   "outputs": [],
   "source": [
    "import pyprind\n",
    "pbar = pyprind.ProgBar(50)"
   ]
  },
  {
   "cell_type": "code",
   "execution_count": 16,
   "metadata": {},
   "outputs": [
    {
     "name": "stderr",
     "output_type": "stream",
     "text": [
      "0% [##############################] 100% | ETA: 00:00:00\n",
      "Total time elapsed: 00:02:41\n"
     ]
    }
   ],
   "source": [
    "for stock in FTSEA50:\n",
    "    df = get_stock_data(stock, \n",
    "                        start_date = start_date,\n",
    "                        end_date=end_date)\n",
    "    file_name = stock.replace('.','') + '.csv'\n",
    "    df.to_csv(file_name)\n",
    "    pbar.update()\n",
    "    "
   ]
  },
  {
   "cell_type": "code",
   "execution_count": 9,
   "metadata": {},
   "outputs": [],
   "source": [
    "df = pro.index_basic(market='SSE')"
   ]
  },
  {
   "cell_type": "code",
   "execution_count": 16,
   "metadata": {},
   "outputs": [],
   "source": [
    "stock = ['000016.SH']"
   ]
  },
  {
   "cell_type": "code",
   "execution_count": 17,
   "metadata": {},
   "outputs": [
    {
     "data": {
      "text/html": [
       "<div>\n",
       "<style scoped>\n",
       "    .dataframe tbody tr th:only-of-type {\n",
       "        vertical-align: middle;\n",
       "    }\n",
       "\n",
       "    .dataframe tbody tr th {\n",
       "        vertical-align: top;\n",
       "    }\n",
       "\n",
       "    .dataframe thead th {\n",
       "        text-align: right;\n",
       "    }\n",
       "</style>\n",
       "<table border=\"1\" class=\"dataframe\">\n",
       "  <thead>\n",
       "    <tr style=\"text-align: right;\">\n",
       "      <th></th>\n",
       "      <th>ts_code</th>\n",
       "      <th>trade_date</th>\n",
       "      <th>open</th>\n",
       "      <th>high</th>\n",
       "      <th>low</th>\n",
       "      <th>close</th>\n",
       "      <th>pre_close</th>\n",
       "      <th>change</th>\n",
       "      <th>pct_chg</th>\n",
       "      <th>vol</th>\n",
       "      <th>amount</th>\n",
       "    </tr>\n",
       "  </thead>\n",
       "  <tbody>\n",
       "  </tbody>\n",
       "</table>\n",
       "</div>"
      ],
      "text/plain": [
       "Empty DataFrame\n",
       "Columns: [ts_code, trade_date, open, high, low, close, pre_close, change, pct_chg, vol, amount]\n",
       "Index: []"
      ]
     },
     "execution_count": 17,
     "metadata": {},
     "output_type": "execute_result"
    }
   ],
   "source": [
    "get_stock_data(stock, start_date, end_date, retry_count = 3, pause = 60)"
   ]
  },
  {
   "cell_type": "code",
   "execution_count": 21,
   "metadata": {},
   "outputs": [],
   "source": [
    "pro.index_daily(ts_code='000016.SH', start_date=start_date, end_date=end_date).to_csv('SSE50.csv')\n"
   ]
  }
 ],
 "metadata": {
  "kernelspec": {
   "display_name": "Python [conda root]",
   "language": "python",
   "name": "conda-root-py"
  },
  "language_info": {
   "codemirror_mode": {
    "name": "ipython",
    "version": 3
   },
   "file_extension": ".py",
   "mimetype": "text/x-python",
   "name": "python",
   "nbconvert_exporter": "python",
   "pygments_lexer": "ipython3",
   "version": "3.6.7"
  }
 },
 "nbformat": 4,
 "nbformat_minor": 2
}
